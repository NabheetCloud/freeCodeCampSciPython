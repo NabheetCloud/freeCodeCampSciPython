{
    "cells": [
        {
            "cell_type": "code",
            "execution_count": 179,
            "source": [
                "import numpy as np\n",
                "import pandas as pd\n",
                "\n",
                "# Series\n",
                "\n",
                "cSeries= pd.Series([123,243,432,232,456,432])\n",
                "cSeries.name =\"Nabheet series\"\n",
                "cSeries\n",
                "cSeries.dtype\n",
                "cSeries.values\n",
                "type(cSeries.values)\n",
                "cSeries[0]\n",
                "cSeries.index=[\"India\", \"USA\", \"Russia\", \"China\", \"Japan\", \"India2\"]\n",
                "cSeries\n",
                "cSeries = pd.Series([123,243,432,232,456,432], index=[\"India\", \"USA\", \"Russia\", \"China\", \"Japan\", \"India2\"])\n",
                "cSeries\n",
                "cSeries=pd.Series({'India':123, 'USA':243, 'Russia':432, 'China':232, 'Japan':456, 'India2':432},name=\"Nabheet series\")\n",
                "cSeries"
            ],
            "outputs": [
                {
                    "output_type": "execute_result",
                    "data": {
                        "text/plain": [
                            "India     123\n",
                            "USA       243\n",
                            "Russia    432\n",
                            "China     232\n",
                            "Japan     456\n",
                            "India2    432\n",
                            "Name: Nabheet series, dtype: int64"
                        ]
                    },
                    "metadata": {},
                    "execution_count": 179
                }
            ],
            "metadata": {}
        },
        {
            "cell_type": "code",
            "execution_count": 180,
            "source": [
                "cSeries[\"India\"]\n",
                "cSeries.iloc[0]\n",
                "cSeries[[\"India\",\"USA\"]]\n",
                "cSeries>200\n",
                "cSeries[cSeries>250]\n",
                "cSeries.mean()\n",
                "cSeries[cSeries>250].mean()\n",
                "cSeries[(cSeries>200) & (cSeries<300)]\n",
                "\n",
                "\n"
            ],
            "outputs": [
                {
                    "output_type": "execute_result",
                    "data": {
                        "text/plain": [
                            "USA      243\n",
                            "China    232\n",
                            "Name: Nabheet series, dtype: int64"
                        ]
                    },
                    "metadata": {},
                    "execution_count": 180
                }
            ],
            "metadata": {}
        },
        {
            "cell_type": "code",
            "execution_count": 181,
            "source": [
                "# Dataframes\n",
                "df = pd.DataFrame({\n",
                "    'Population':[123,233,212,211],\n",
                "    'Profit':[12,23,21,21],\n",
                "    'City':['New York','Chicago','San Francisco','Los Angeles']\n",
                "\n",
                "},columns=['City','Population','Profit'])\n",
                "df.index=['New York','Chicago','San Francisco','Los Angeles']\n",
                "\n",
                "\n",
                "df.columns\n",
                "\n",
                "df.index\n",
                "df.info()\n",
                "df.size\n",
                "df.shape\n",
                "df.describe()\n",
                "df.dtypes\n",
                "df.dtypes.value_counts()\n",
                "df['City']\n",
                "df.loc['Chicago'].to_frame()\n",
                "df.loc['Chicago']['City']\n",
                "df.drop('Chicago')\n",
                "lg = pd.Series(['Hindi','Punjabi'],index=['New York','Chicago'],name='Language')\n",
                "df['Language']=lg\n",
                "df"
            ],
            "outputs": [
                {
                    "output_type": "stream",
                    "name": "stdout",
                    "text": [
                        "<class 'pandas.core.frame.DataFrame'>\n",
                        "Index: 4 entries, New York to Los Angeles\n",
                        "Data columns (total 3 columns):\n",
                        " #   Column      Non-Null Count  Dtype \n",
                        "---  ------      --------------  ----- \n",
                        " 0   City        4 non-null      object\n",
                        " 1   Population  4 non-null      int64 \n",
                        " 2   Profit      4 non-null      int64 \n",
                        "dtypes: int64(2), object(1)\n",
                        "memory usage: 128.0+ bytes\n"
                    ]
                },
                {
                    "output_type": "execute_result",
                    "data": {
                        "text/plain": [
                            "                        City  Population  Profit Language\n",
                            "New York            New York         123      12    Hindi\n",
                            "Chicago              Chicago         233      23  Punjabi\n",
                            "San Francisco  San Francisco         212      21      NaN\n",
                            "Los Angeles      Los Angeles         211      21      NaN"
                        ],
                        "text/html": [
                            "<div>\n",
                            "<style scoped>\n",
                            "    .dataframe tbody tr th:only-of-type {\n",
                            "        vertical-align: middle;\n",
                            "    }\n",
                            "\n",
                            "    .dataframe tbody tr th {\n",
                            "        vertical-align: top;\n",
                            "    }\n",
                            "\n",
                            "    .dataframe thead th {\n",
                            "        text-align: right;\n",
                            "    }\n",
                            "</style>\n",
                            "<table border=\"1\" class=\"dataframe\">\n",
                            "  <thead>\n",
                            "    <tr style=\"text-align: right;\">\n",
                            "      <th></th>\n",
                            "      <th>City</th>\n",
                            "      <th>Population</th>\n",
                            "      <th>Profit</th>\n",
                            "      <th>Language</th>\n",
                            "    </tr>\n",
                            "  </thead>\n",
                            "  <tbody>\n",
                            "    <tr>\n",
                            "      <th>New York</th>\n",
                            "      <td>New York</td>\n",
                            "      <td>123</td>\n",
                            "      <td>12</td>\n",
                            "      <td>Hindi</td>\n",
                            "    </tr>\n",
                            "    <tr>\n",
                            "      <th>Chicago</th>\n",
                            "      <td>Chicago</td>\n",
                            "      <td>233</td>\n",
                            "      <td>23</td>\n",
                            "      <td>Punjabi</td>\n",
                            "    </tr>\n",
                            "    <tr>\n",
                            "      <th>San Francisco</th>\n",
                            "      <td>San Francisco</td>\n",
                            "      <td>212</td>\n",
                            "      <td>21</td>\n",
                            "      <td>NaN</td>\n",
                            "    </tr>\n",
                            "    <tr>\n",
                            "      <th>Los Angeles</th>\n",
                            "      <td>Los Angeles</td>\n",
                            "      <td>211</td>\n",
                            "      <td>21</td>\n",
                            "      <td>NaN</td>\n",
                            "    </tr>\n",
                            "  </tbody>\n",
                            "</table>\n",
                            "</div>"
                        ]
                    },
                    "metadata": {},
                    "execution_count": 181
                }
            ],
            "metadata": {}
        },
        {
            "cell_type": "code",
            "execution_count": 182,
            "source": [
                "df\n",
                "df['per profilt'] = df['Profit']/ df['Population']\n",
                "df"
            ],
            "outputs": [
                {
                    "output_type": "execute_result",
                    "data": {
                        "text/plain": [
                            "                        City  Population  Profit Language  per profilt\n",
                            "New York            New York         123      12    Hindi     0.097561\n",
                            "Chicago              Chicago         233      23  Punjabi     0.098712\n",
                            "San Francisco  San Francisco         212      21      NaN     0.099057\n",
                            "Los Angeles      Los Angeles         211      21      NaN     0.099526"
                        ],
                        "text/html": [
                            "<div>\n",
                            "<style scoped>\n",
                            "    .dataframe tbody tr th:only-of-type {\n",
                            "        vertical-align: middle;\n",
                            "    }\n",
                            "\n",
                            "    .dataframe tbody tr th {\n",
                            "        vertical-align: top;\n",
                            "    }\n",
                            "\n",
                            "    .dataframe thead th {\n",
                            "        text-align: right;\n",
                            "    }\n",
                            "</style>\n",
                            "<table border=\"1\" class=\"dataframe\">\n",
                            "  <thead>\n",
                            "    <tr style=\"text-align: right;\">\n",
                            "      <th></th>\n",
                            "      <th>City</th>\n",
                            "      <th>Population</th>\n",
                            "      <th>Profit</th>\n",
                            "      <th>Language</th>\n",
                            "      <th>per profilt</th>\n",
                            "    </tr>\n",
                            "  </thead>\n",
                            "  <tbody>\n",
                            "    <tr>\n",
                            "      <th>New York</th>\n",
                            "      <td>New York</td>\n",
                            "      <td>123</td>\n",
                            "      <td>12</td>\n",
                            "      <td>Hindi</td>\n",
                            "      <td>0.097561</td>\n",
                            "    </tr>\n",
                            "    <tr>\n",
                            "      <th>Chicago</th>\n",
                            "      <td>Chicago</td>\n",
                            "      <td>233</td>\n",
                            "      <td>23</td>\n",
                            "      <td>Punjabi</td>\n",
                            "      <td>0.098712</td>\n",
                            "    </tr>\n",
                            "    <tr>\n",
                            "      <th>San Francisco</th>\n",
                            "      <td>San Francisco</td>\n",
                            "      <td>212</td>\n",
                            "      <td>21</td>\n",
                            "      <td>NaN</td>\n",
                            "      <td>0.099057</td>\n",
                            "    </tr>\n",
                            "    <tr>\n",
                            "      <th>Los Angeles</th>\n",
                            "      <td>Los Angeles</td>\n",
                            "      <td>211</td>\n",
                            "      <td>21</td>\n",
                            "      <td>NaN</td>\n",
                            "      <td>0.099526</td>\n",
                            "    </tr>\n",
                            "  </tbody>\n",
                            "</table>\n",
                            "</div>"
                        ]
                    },
                    "metadata": {},
                    "execution_count": 182
                }
            ],
            "metadata": {}
        },
        {
            "cell_type": "code",
            "execution_count": 183,
            "source": [
                "# Files handling\n",
                "import matplotlib.pyplot as plt\n",
                "filesdata= pd.read_csv('btc-market-price.csv',header=None)\n",
                "filesdata.head()\n",
                "filesdata.columns=['date','price']\n",
                "filesdata.head()\n",
                "filesdata.dtypes\n",
                "filesdata.shape\n",
                "filesdata.dtypes\n",
                "pd.to_datetime(filesdata['date']).head()\n",
                "filesdata['time']=pd.to_datetime(filesdata['date'])\n",
                "filesdata= pd.read_csv('btc-market-price.csv',header=None,index_col=0,parse_dates=True,names=['time','price'])\n",
                "filesdata.head()\n",
                "filesdata.plot()\n",
                "# plt.plot(filesdata.index,filesdata['price'])\n",
                "# x = np.arange(-10,11)\n",
                "# plt.plot(x,x**2)\n",
                "df['Sex'] ='M'\n"
            ],
            "outputs": [
                {
                    "output_type": "display_data",
                    "data": {
                        "text/plain": [
                            "<Figure size 432x288 with 1 Axes>"
                        ],
                        "image/png": "[encoded data removed]"
                    },
                    "metadata": {
                        "needs_background": "light"
                    }
                }
            ],
            "metadata": {}
        },
        {
            "cell_type": "code",
            "execution_count": 184,
            "source": [
                "# Data cleaning\n",
                "\n",
                "pd.isnull(np.nan)\n",
                "pd.isnull(1)\n",
                "pd.isna(None)\n",
                "s = pd.Series(['a', 3, np.nan, 1, np.nan])\n",
                "\n",
                "print(s.notnull().sum())\n",
                "\n",
                "# df\n",
                "df.isnull().count()\n",
                "df.info()\n",
                "df.fillna(\"NA\")\n",
                "df.fillna(method='ffill',axis=1)\n"
            ],
            "outputs": [
                {
                    "output_type": "stream",
                    "name": "stdout",
                    "text": [
                        "3\n",
                        "<class 'pandas.core.frame.DataFrame'>\n",
                        "Index: 4 entries, New York to Los Angeles\n",
                        "Data columns (total 6 columns):\n",
                        " #   Column       Non-Null Count  Dtype  \n",
                        "---  ------       --------------  -----  \n",
                        " 0   City         4 non-null      object \n",
                        " 1   Population   4 non-null      int64  \n",
                        " 2   Profit       4 non-null      int64  \n",
                        " 3   Language     2 non-null      object \n",
                        " 4   per profilt  4 non-null      float64\n",
                        " 5   Sex          4 non-null      object \n",
                        "dtypes: float64(1), int64(2), object(3)\n",
                        "memory usage: 396.0+ bytes\n"
                    ]
                },
                {
                    "output_type": "execute_result",
                    "data": {
                        "text/plain": [
                            "                        City Population Profit Language per profilt Sex\n",
                            "New York            New York        123     12    Hindi    0.097561   M\n",
                            "Chicago              Chicago        233     23  Punjabi    0.098712   M\n",
                            "San Francisco  San Francisco        212     21       21    0.099057   M\n",
                            "Los Angeles      Los Angeles        211     21       21    0.099526   M"
                        ],
                        "text/html": [
                            "<div>\n",
                            "<style scoped>\n",
                            "    .dataframe tbody tr th:only-of-type {\n",
                            "        vertical-align: middle;\n",
                            "    }\n",
                            "\n",
                            "    .dataframe tbody tr th {\n",
                            "        vertical-align: top;\n",
                            "    }\n",
                            "\n",
                            "    .dataframe thead th {\n",
                            "        text-align: right;\n",
                            "    }\n",
                            "</style>\n",
                            "<table border=\"1\" class=\"dataframe\">\n",
                            "  <thead>\n",
                            "    <tr style=\"text-align: right;\">\n",
                            "      <th></th>\n",
                            "      <th>City</th>\n",
                            "      <th>Population</th>\n",
                            "      <th>Profit</th>\n",
                            "      <th>Language</th>\n",
                            "      <th>per profilt</th>\n",
                            "      <th>Sex</th>\n",
                            "    </tr>\n",
                            "  </thead>\n",
                            "  <tbody>\n",
                            "    <tr>\n",
                            "      <th>New York</th>\n",
                            "      <td>New York</td>\n",
                            "      <td>123</td>\n",
                            "      <td>12</td>\n",
                            "      <td>Hindi</td>\n",
                            "      <td>0.097561</td>\n",
                            "      <td>M</td>\n",
                            "    </tr>\n",
                            "    <tr>\n",
                            "      <th>Chicago</th>\n",
                            "      <td>Chicago</td>\n",
                            "      <td>233</td>\n",
                            "      <td>23</td>\n",
                            "      <td>Punjabi</td>\n",
                            "      <td>0.098712</td>\n",
                            "      <td>M</td>\n",
                            "    </tr>\n",
                            "    <tr>\n",
                            "      <th>San Francisco</th>\n",
                            "      <td>San Francisco</td>\n",
                            "      <td>212</td>\n",
                            "      <td>21</td>\n",
                            "      <td>21</td>\n",
                            "      <td>0.099057</td>\n",
                            "      <td>M</td>\n",
                            "    </tr>\n",
                            "    <tr>\n",
                            "      <th>Los Angeles</th>\n",
                            "      <td>Los Angeles</td>\n",
                            "      <td>211</td>\n",
                            "      <td>21</td>\n",
                            "      <td>21</td>\n",
                            "      <td>0.099526</td>\n",
                            "      <td>M</td>\n",
                            "    </tr>\n",
                            "  </tbody>\n",
                            "</table>\n",
                            "</div>"
                        ]
                    },
                    "metadata": {},
                    "execution_count": 184
                }
            ],
            "metadata": {}
        },
        {
            "cell_type": "code",
            "execution_count": 185,
            "source": [
                "df.loc['New York']['Sex'] = 'D'\n",
                "s = pd.Series([np.nan, 1, 2, np.nan, 3])\n",
                "s = s.fillna(method='ffill')\n",
                "\n",
                "print(s)"
            ],
            "outputs": [
                {
                    "output_type": "stream",
                    "name": "stdout",
                    "text": [
                        "0    NaN\n",
                        "1    1.0\n",
                        "2    2.0\n",
                        "3    2.0\n",
                        "4    3.0\n",
                        "dtype: float64\n"
                    ]
                },
                {
                    "output_type": "stream",
                    "name": "stderr",
                    "text": [
                        "/Library/Python/3.8/site-packages/pandas/core/series.py:1056: SettingWithCopyWarning: \n",
                        "A value is trying to be set on a copy of a slice from a DataFrame\n",
                        "\n",
                        "See the caveats in the documentation: https://pandas.pydata.org/pandas-docs/stable/user_guide/indexing.html#returning-a-view-versus-a-copy\n",
                        "  cacher_needs_updating = self._check_is_chained_assignment_possible()\n"
                    ]
                }
            ],
            "metadata": {}
        },
        {
            "cell_type": "code",
            "execution_count": 186,
            "source": [
                "x = np.arange(-10,11)\n",
                "plt.figure( figsize=(12,6)) \n",
                "plt.title('My plot')\n",
                "plt.plot(x,x**2)\n",
                "plt.plot(x,-1*(x**2))"
            ],
            "outputs": [
                {
                    "output_type": "execute_result",
                    "data": {
                        "text/plain": [
                            "[<matplotlib.lines.Line2D at 0x11fe2c580>]"
                        ]
                    },
                    "metadata": {},
                    "execution_count": 186
                },
                {
                    "output_type": "display_data",
                    "data": {
                        "text/plain": [
                            "<Figure size 864x432 with 1 Axes>"
                        ],
                        "image/png": "[encoded data removed]"
                    },
                    "metadata": {
                        "needs_background": "light"
                    }
                }
            ],
            "metadata": {}
        },
        {
            "cell_type": "code",
            "execution_count": 187,
            "source": [
                "!pip3 install sqlalchemy"
            ],
            "outputs": [
                {
                    "output_type": "stream",
                    "name": "stdout",
                    "text": [
                        "Defaulting to user installation because normal site-packages is not writeable\n",
                        "Requirement already satisfied: sqlalchemy in /Users/nabheetmadan/Library/Python/3.8/lib/python/site-packages (1.4.22)\n",
                        "Requirement already satisfied: greenlet!=0.4.17 in /Users/nabheetmadan/Library/Python/3.8/lib/python/site-packages (from sqlalchemy) (1.1.0)\n"
                    ]
                }
            ],
            "metadata": {}
        },
        {
            "cell_type": "code",
            "execution_count": 188,
            "source": [
                "import sqlite3\n",
                "import os.path\n",
                "\n",
                "BASE_DIR = os.path.dirname(os.path.abspath('DA-Pandas.ipynb'))\n",
                "db_path = os.path.join(BASE_DIR, \"chinook.db\")\n",
                "\n",
                "print(db_path)\n",
                "conn = sqlite3.connect(db_path)\n",
                "cur = conn.cursor()\n",
                "cur.execute('SELECT * FROM employees LIMIT 5;')\n",
                "df = pd.DataFrame(cur.fetchall())\n",
                "cur.close()\n",
                "conn.close()"
            ],
            "outputs": [
                {
                    "output_type": "stream",
                    "name": "stdout",
                    "text": [
                        "/Users/nabheetmadan/Documents/Python/freeCodeCampSciPython/chinook.db\n"
                    ]
                }
            ],
            "metadata": {}
        },
        {
            "cell_type": "code",
            "execution_count": 199,
            "source": [
                "def calculate(list):\n",
                "    if len(list) != 9:\n",
                "        raise ValueError('List must contain nine numbers.')\n",
                "    array=np.reshape(list,(3,3))\n",
                "    thisdict = {\n",
                "         'mean': [np.mean(array,axis=0).tolist(), np.mean(array,axis=1).tolist(), np.mean(array.flat)],\n",
                "        'variance': [np.var(array,axis=0).tolist(), np.var(array,axis=1).tolist(), np.var(array.flat)],\n",
                "        'standard deviation': [np.std(array,axis=0).tolist(), np.std(array,axis=1).tolist(), np.std(array.flat)],\n",
                "        'max': [np.max(array,axis=0).tolist(), np.max(array,axis=1).tolist(), np.max(array.flat)],\n",
                "        'min': [np.min(array,axis=0).tolist(), np.min(array,axis=1).tolist(), np.min(array.flat)],\n",
                "        'sum': [np.sum(array,axis=0).tolist(), np.sum(array,axis=1).tolist(), np.sum(array.flat)]\n",
                "    }\n",
                "    return thisdict\n",
                "\n",
                "    # return calculations\n",
                "calculate([0,1,2,3,4,5,6,7,8])"
            ],
            "outputs": [
                {
                    "output_type": "execute_result",
                    "data": {
                        "text/plain": [
                            "{'mean': [[3.0, 4.0, 5.0], [1.0, 4.0, 7.0], 4.0],\n",
                            " 'variance': [[6.0, 6.0, 6.0],\n",
                            "  [0.6666666666666666, 0.6666666666666666, 0.6666666666666666],\n",
                            "  6.666666666666667],\n",
                            " 'standard deviation': [[2.449489742783178,\n",
                            "   2.449489742783178,\n",
                            "   2.449489742783178],\n",
                            "  [0.816496580927726, 0.816496580927726, 0.816496580927726],\n",
                            "  2.581988897471611],\n",
                            " 'max': [[6, 7, 8], [2, 5, 8], 8],\n",
                            " 'min': [[0, 1, 2], [0, 3, 6], 0],\n",
                            " 'sum': [[9, 12, 15], [3, 12, 21], 36]}"
                        ]
                    },
                    "metadata": {},
                    "execution_count": 199
                }
            ],
            "metadata": {}
        },
        {
            "cell_type": "code",
            "execution_count": 268,
            "source": [
                "def calculate_demographic_data(print_data=True):\n",
                "    # Read data from file\n",
                "    df = pd.read_csv('adult-data.csv')\n",
                "   \n",
                "    # print(df[( (df['education']=='Bachelors') | (df['education'] =='Masters')| (df['education'] =='Doctorate') ) & (df['salary'] =='>50K') ]['education'].count() )\n",
                "    # How many of each race are represented in this dataset? This should be a Pandas series with race names as the index labels.\n",
                "    race_count = df.value_counts(['race']).tolist()\n",
                "\n",
                "    # What is the average age of men?\n",
                "    average_age_men = round(df[df['sex']=='Male']['age'].mean(),1)\n",
                "\n",
                "    # What is the percentage of people who have a Bachelor's degree?\n",
                "    percentage_bachelors = round((df[df['education']=='Bachelors']['education'].count() / df['education'].count())*100,1)\n",
                "\n",
                "    # What percentage of people with advanced education (`Bachelors`, `Masters`, or `Doctorate`) make more than 50K?\n",
                "    # What percentage of people without advanced education make more than 50K?\n",
                "\n",
                "    # with and without `Bachelors`, `Masters`, or `Doctorate`\n",
                "    higher_education = ((df[( (df['education']=='Bachelors') | (df['education'] =='Masters')| (df['education'] =='Doctorate') ) & (df['salary'] =='>50K') ]['education'].count())/(df[( (df['education']=='Bachelors') | (df['education'] =='Masters')| (df['education'] =='Doctorate') ) ]['education'].count()))*100\n",
                "    lower_education = None\n",
                "\n",
                "    # percentage with salary >50K\n",
                "    higher_education_rich = round(((df[( (df['education']=='Bachelors') | (df['education'] =='Masters')| (df['education'] =='Doctorate') ) & (df['salary'] =='>50K') ]['education'].count())/(df[( (df['education']=='Bachelors') | (df['education'] =='Masters')| (df['education'] =='Doctorate') ) ]['education'].count()))*100,1)\n",
                "    lower_education_rich = round(((df[( (df['education']!='Bachelors') & (df['education'] !='Masters')& (df['education'] !='Doctorate') ) & (df['salary'] =='>50K') ]['education'].count())/(df[( (df['education']!='Bachelors') & (df['education'] !='Masters')& (df['education'] !='Doctorate') ) ]['education'].count()))*100,1)\n",
                "\n",
                "    # What is the minimum number of hours a person works per week (hours-per-week feature)?\n",
                "    min_work_hours = df['hours-per-week'].min()\n",
                "\n",
                "    # What percentage of the people who work the minimum number of hours per week have a salary of >50K?\n",
                "    num_min_workers = df[df['hours-per-week'] == min_work_hours]['salary'].count()\n",
                "    # print(num_min_workers)\n",
                "    rich_percentage = ((df[(df['hours-per-week'] == min_work_hours) & (df['salary'] =='>50K')]['salary'].count()) / (num_min_workers))*100\n",
                "\n",
                "    # What country has the highest percentage of people that earn >50K?\n",
                "    # print(df.groupby('native-country').size())\n",
                "    highest_earning_country = (df[df['salary'] == '>50K'].groupby('native-country').size()/df.groupby('native-country').size()).sort_values(ascending=False).index[0]\n",
                "    highest_earning_country_percentage = round(((df[df['salary'] == '>50K'].groupby('native-country').size()/df.groupby('native-country').size()).sort_values(ascending=False).iloc[0])*100,1)\n",
                "\n",
                "    # Identify the most popular occupation for those who earn >50K in India.\n",
                "    top_IN_occupation = df[(df['native-country'] == 'India') & (df['salary'] == '>50K')].groupby('occupation').size().sort_values(ascending=False).index[0]\n",
                "\n",
                "    # DO NOT MODIFY BELOW THIS LINE\n",
                "\n",
                "    if print_data:\n",
                "        print(\"Number of each race:\\n\", race_count) \n",
                "        print(\"Average age of men:\", average_age_men)\n",
                "        print(f\"Percentage with Bachelors degrees: {percentage_bachelors}%\")\n",
                "        print(f\"Percentage with higher education that earn >50K: {higher_education_rich}%\")\n",
                "        print(f\"Percentage without higher education that earn >50K: {lower_education_rich}%\")\n",
                "        print(f\"Min work time: {min_work_hours} hours/week\")\n",
                "        print(f\"Percentage of rich among those who work fewest hours: {rich_percentage}%\")\n",
                "        print(\"Country with highest percentage of rich:\", highest_earning_country)\n",
                "        print(f\"Highest percentage of rich people in country: {highest_earning_country_percentage}%\")\n",
                "        print(\"Top occupations in India:\", top_IN_occupation)\n",
                "\n",
                "    return {\n",
                "        'race_count': race_count,\n",
                "        'average_age_men': average_age_men,\n",
                "        'percentage_bachelors': percentage_bachelors,\n",
                "        'higher_education_rich': higher_education_rich,\n",
                "        'lower_education_rich': lower_education_rich,\n",
                "        'min_work_hours': min_work_hours,\n",
                "        'rich_percentage': rich_percentage,\n",
                "        'highest_earning_country': highest_earning_country,\n",
                "        'highest_earning_country_percentage':\n",
                "        highest_earning_country_percentage,\n",
                "        'top_IN_occupation': top_IN_occupation\n",
                "    }\n",
                "calculate_demographic_data()"
            ],
            "outputs": [
                {
                    "output_type": "stream",
                    "name": "stdout",
                    "text": [
                        "Number of each race:\n",
                        " [27816, 3124, 1039, 311, 271]\n",
                        "Average age of men: 39.4\n",
                        "Percentage with Bachelors degrees: 16.4%\n",
                        "Percentage with higher education that earn >50K: 46.5%\n",
                        "Percentage without higher education that earn >50K: 17.4%\n",
                        "Min work time: 1 hours/week\n",
                        "Percentage of rich among those who work fewest hours: 10.0%\n",
                        "Country with highest percentage of rich: Iran\n",
                        "Highest percentage of rich people in country: 41.9%\n",
                        "Top occupations in India: Prof-specialty\n"
                    ]
                },
                {
                    "output_type": "execute_result",
                    "data": {
                        "text/plain": [
                            "{'race_count': [27816, 3124, 1039, 311, 271],\n",
                            " 'average_age_men': 39.4,\n",
                            " 'percentage_bachelors': 16.4,\n",
                            " 'higher_education_rich': 46.5,\n",
                            " 'lower_education_rich': 17.4,\n",
                            " 'min_work_hours': 1,\n",
                            " 'rich_percentage': 10.0,\n",
                            " 'highest_earning_country': 'Iran',\n",
                            " 'highest_earning_country_percentage': 41.9,\n",
                            " 'top_IN_occupation': 'Prof-specialty'}"
                        ]
                    },
                    "metadata": {},
                    "execution_count": 268
                }
            ],
            "metadata": {}
        }
    ],
    "metadata": {
        "orig_nbformat": 4,
        "language_info": {
            "name": "python",
            "version": "3.8.2",
            "mimetype": "text/x-python",
            "codemirror_mode": {
                "name": "ipython",
                "version": 3
            },
            "pygments_lexer": "ipython3",
            "nbconvert_exporter": "python",
            "file_extension": ".py"
        },
        "kernelspec": {
            "name": "python3",
            "display_name": "Python 3.8.2 64-bit"
        },
        "interpreter": {
            "hash": "31f2aee4e71d21fbe5cf8b01ff0e069b9275f58929596ceb00d14d90e3e16cd6"
        }
    },
    "nbformat": 4,
    "nbformat_minor": 2
}