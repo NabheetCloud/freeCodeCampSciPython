{
    "cells": [
        {
            "cell_type": "code",
            "execution_count": null,
            "source": [
                "import numpy as np\n",
                "import pandas as pd\n",
                "\n",
                "# Series\n",
                "\n",
                "cSeries= pd.Series([123,243,432,232,456,432])\n",
                "cSeries.name =\"Nabheet series\"\n",
                "cSeries\n",
                "cSeries.dtype\n",
                "cSeries.values\n",
                "type(cSeries.values)\n",
                "cSeries[0]\n",
                "cSeries.index=[\"India\", \"USA\", \"Russia\", \"China\", \"Japan\", \"India2\"]\n",
                "cSeries\n",
                "cSeries = pd.Series([123,243,432,232,456,432], index=[\"India\", \"USA\", \"Russia\", \"China\", \"Japan\", \"India2\"])\n",
                "cSeries\n",
                "cSeries=pd.Series({'India':123, 'USA':243, 'Russia':432, 'China':232, 'Japan':456, 'India2':432},name=\"Nabheet series\")\n",
                "cSeries"
            ],
            "outputs": [],
            "metadata": {}
        },
        {
            "cell_type": "code",
            "execution_count": 28,
            "source": [
                "cSeries[\"India\"]\n",
                "cSeries.iloc[0]\n",
                "cSeries[[\"India\",\"USA\"]]\n",
                "cSeries>200\n",
                "cSeries[cSeries>250]\n",
                "cSeries.mean()\n",
                "cSeries[cSeries>250].mean()\n",
                "cSeries[(cSeries>200) & (cSeries<300)]\n",
                "\n",
                "\n"
            ],
            "outputs": [
                {
                    "output_type": "execute_result",
                    "data": {
                        "text/plain": [
                            "USA      243\n",
                            "China    232\n",
                            "Name: Nabheet series, dtype: int64"
                        ]
                    },
                    "metadata": {},
                    "execution_count": 28
                }
            ],
            "metadata": {}
        },
        {
            "cell_type": "code",
            "execution_count": 52,
            "source": [
                "# Dataframes\n",
                "df = pd.DataFrame({\n",
                "    'Population':[123,233,212,211],\n",
                "    'Profit':[12,23,21,21],\n",
                "    'City':['New York','Chicago','San Francisco','Los Angeles']\n",
                "\n",
                "},columns=['City','Population','Profit'])\n",
                "df.index=['New York','Chicago','San Francisco','Los Angeles']\n",
                "\n",
                "\n",
                "df.columns\n",
                "\n",
                "df.index\n",
                "df.info()\n",
                "df.size\n",
                "df.shape\n",
                "df.describe()\n",
                "df.dtypes\n",
                "df.dtypes.value_counts()\n",
                "df['City']\n",
                "df.loc['Chicago']"
            ],
            "outputs": [
                {
                    "output_type": "execute_result",
                    "data": {
                        "text/plain": [
                            "City          Chicago\n",
                            "Population        233\n",
                            "Profit             23\n",
                            "Name: Chicago, dtype: object"
                        ]
                    },
                    "metadata": {},
                    "execution_count": 52
                }
            ],
            "metadata": {}
        }
    ],
    "metadata": {
        "orig_nbformat": 4,
        "language_info": {
            "name": "python",
            "version": "3.8.2",
            "mimetype": "text/x-python",
            "codemirror_mode": {
                "name": "ipython",
                "version": 3
            },
            "pygments_lexer": "ipython3",
            "nbconvert_exporter": "python",
            "file_extension": ".py"
        },
        "kernelspec": {
            "name": "python3",
            "display_name": "Python 3.8.2 64-bit"
        },
        "interpreter": {
            "hash": "31f2aee4e71d21fbe5cf8b01ff0e069b9275f58929596ceb00d14d90e3e16cd6"
        }
    },
    "nbformat": 4,
    "nbformat_minor": 2
}