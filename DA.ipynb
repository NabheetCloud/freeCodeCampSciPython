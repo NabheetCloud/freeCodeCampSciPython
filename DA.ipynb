{
    "cells": [
        {
            "cell_type": "code",
            "execution_count": 9,
            "source": [
                "# Numpy\n",
                "\n",
                "import numpy as np\n",
                "np.array([1,2,3,4])\n",
                "a = np.array([1,2,3,4])\n",
                "b = np.array([0.5,1,1.5,2])\n",
                "a[0],a[1]\n",
                "b[[0,2,-1]]\n",
                "\n"
            ],
            "outputs": [
                {
                    "output_type": "execute_result",
                    "data": {
                        "text/plain": [
                            "array([0.5, 1.5, 2. ])"
                        ]
                    },
                    "metadata": {},
                    "execution_count": 9
                }
            ],
            "metadata": {}
        }
    ],
    "metadata": {
        "orig_nbformat": 4,
        "language_info": {
            "name": "python",
            "version": "3.8.2",
            "mimetype": "text/x-python",
            "codemirror_mode": {
                "name": "ipython",
                "version": 3
            },
            "pygments_lexer": "ipython3",
            "nbconvert_exporter": "python",
            "file_extension": ".py"
        },
        "kernelspec": {
            "name": "python3",
            "display_name": "Python 3.8.2 64-bit"
        },
        "interpreter": {
            "hash": "31f2aee4e71d21fbe5cf8b01ff0e069b9275f58929596ceb00d14d90e3e16cd6"
        }
    },
    "nbformat": 4,
    "nbformat_minor": 2
}