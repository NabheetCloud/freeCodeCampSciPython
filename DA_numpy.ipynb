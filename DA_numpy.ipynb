{
    "cells": [
        {
            "cell_type": "code",
            "execution_count": 12,
            "source": [
                "# Numpy\n",
                "\n",
                "import numpy as np\n",
                "np.array([1,2,3,4])\n",
                "a = np.array([1,2,3,4])\n",
                "b = np.array([0.5,1,1.5,2])\n",
                "a[0],a[1]\n",
                "b[[0,2,-1]]\n",
                "\n",
                "a.dtype\n",
                "b.dtype\n",
                "\n",
                "np.array([1,2,3,4],dtype=np.float64)\n"
            ],
            "outputs": [
                {
                    "output_type": "execute_result",
                    "data": {
                        "text/plain": [
                            "array([1., 2., 3., 4.])"
                        ]
                    },
                    "metadata": {},
                    "execution_count": 12
                }
            ],
            "metadata": {}
        },
        {
            "cell_type": "code",
            "execution_count": 23,
            "source": [
                "# dimensions\n",
                "\n",
                "A = np.array([[1, 2, 3], [4, 5, 6], [7, 8, 9]])\n",
                "A.shape\n",
                "A.ndim\n",
                "A.size\n",
                "A[0:2]\n",
                "A[1,0]\n",
                "A[:,:2]\n",
                "#  A[d1,d2,d3]\n",
                "\n",
                "A.sum()\n",
                "A.mean()\n"
            ],
            "outputs": [
                {
                    "output_type": "execute_result",
                    "data": {
                        "text/plain": [
                            "5.0"
                        ]
                    },
                    "metadata": {},
                    "execution_count": 23
                }
            ],
            "metadata": {}
        },
        {
            "cell_type": "code",
            "execution_count": 24,
            "source": [
                "A = np.array([\n",
                "    ['a', 'b', 'c'],\n",
                "    ['d', 'e', 'f'],\n",
                "    ['g', 'h', 'i']\n",
                "])\n",
                "\n",
                "print(A[:, :2])"
            ],
            "outputs": [
                {
                    "output_type": "stream",
                    "name": "stdout",
                    "text": [
                        "[['a' 'b']\n",
                        " ['d' 'e']\n",
                        " ['g' 'h']]\n"
                    ]
                }
            ],
            "metadata": {}
        },
        {
            "cell_type": "code",
            "execution_count": 33,
            "source": [
                "# Broadcasting and vectorized operations\n",
                "\n",
                "a=np.arange(4)\n",
                "a\n",
                "a+10\n",
                "a*10\n",
                "l=np.arange(10)\n",
                "[i*10 for i in l]\n",
                "\n"
            ],
            "outputs": [
                {
                    "output_type": "execute_result",
                    "data": {
                        "text/plain": [
                            "[0, 10, 20, 30, 40, 50, 60, 70, 80, 90]"
                        ]
                    },
                    "metadata": {},
                    "execution_count": 33
                }
            ],
            "metadata": {}
        },
        {
            "cell_type": "code",
            "execution_count": 44,
            "source": [
                "# booleans\n",
                "a = np.arange(4)\n",
                "a[[True,False,True,False]]\n",
                "a>=2\n",
                "a[a>=2]\n",
                "a.mean()\n",
                "a[a>a.mean()]\n",
                "a[(a==0) | (a==2)]\n",
                "\n",
                "A = np.random.randint(100,size=(3,3))\n",
                "A>30\n",
                "a = np.arange(5)\n",
                "\n",
                "print(a <= 3)"
            ],
            "outputs": [
                {
                    "output_type": "stream",
                    "name": "stdout",
                    "text": [
                        "[ True  True  True  True False]\n"
                    ]
                }
            ],
            "metadata": {}
        },
        {
            "cell_type": "code",
            "execution_count": 8,
            "source": [
                "# algebra\n",
                "sys.getsizeof(1)\n",
                "import numpy as np\n",
                "\n",
                "\n",
                "l = list(range(1000))\n",
                "%time sum([x ** 2 for x in l])\n",
                "\n",
                "a = np.arange(1000)\n",
                "%time np.sum(a ** 2)"
            ],
            "outputs": [
                {
                    "output_type": "stream",
                    "name": "stdout",
                    "text": [
                        "CPU times: user 365 µs, sys: 8 µs, total: 373 µs\n",
                        "Wall time: 375 µs\n",
                        "CPU times: user 142 µs, sys: 204 µs, total: 346 µs\n",
                        "Wall time: 154 µs\n"
                    ]
                },
                {
                    "output_type": "execute_result",
                    "data": {
                        "text/plain": [
                            "332833500"
                        ]
                    },
                    "metadata": {},
                    "execution_count": 8
                }
            ],
            "metadata": {}
        }
    ],
    "metadata": {
        "orig_nbformat": 4,
        "language_info": {
            "name": "python",
            "version": "3.8.2",
            "mimetype": "text/x-python",
            "codemirror_mode": {
                "name": "ipython",
                "version": 3
            },
            "pygments_lexer": "ipython3",
            "nbconvert_exporter": "python",
            "file_extension": ".py"
        },
        "kernelspec": {
            "name": "python3",
            "display_name": "Python 3.8.2 64-bit"
        },
        "interpreter": {
            "hash": "31f2aee4e71d21fbe5cf8b01ff0e069b9275f58929596ceb00d14d90e3e16cd6"
        }
    },
    "nbformat": 4,
    "nbformat_minor": 2
}