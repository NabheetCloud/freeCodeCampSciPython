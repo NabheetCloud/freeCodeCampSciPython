{
 "metadata": {
  "language_info": {
   "codemirror_mode": {
    "name": "ipython",
    "version": 3
   },
   "file_extension": ".py",
   "mimetype": "text/x-python",
   "name": "python",
   "nbconvert_exporter": "python",
   "pygments_lexer": "ipython3",
   "version": "3.9.1"
  },
  "orig_nbformat": 4,
  "kernelspec": {
   "name": "python3",
   "display_name": "Python 3.9.1 64-bit"
  },
  "interpreter": {
   "hash": "bf689d8f83c7b4c56444d90c81645527b156ce29ba2311f5f43d74aac5c8afa9"
  }
 },
 "nbformat": 4,
 "nbformat_minor": 2,
 "cells": [
  {
   "cell_type": "code",
   "execution_count": null,
   "source": [],
   "outputs": [],
   "metadata": {}
  },
  {
   "cell_type": "code",
   "execution_count": null,
   "source": [
    "print(\"hello\")"
   ],
   "outputs": [
    {
     "output_type": "error",
     "ename": "Error",
     "evalue": "Session cannot generate requests",
     "traceback": [
      "Error: Session cannot generate requests",
      "at w.executeCodeCell (c:\\Users\\Nabheet Madan\\.vscode\\extensions\\ms-toolsai.jupyter-2021.8.1013163132\\out\\client\\extension.js:90:320068)",
      "at w.execute (c:\\Users\\Nabheet Madan\\.vscode\\extensions\\ms-toolsai.jupyter-2021.8.1013163132\\out\\client\\extension.js:90:319389)",
      "at w.start (c:\\Users\\Nabheet Madan\\.vscode\\extensions\\ms-toolsai.jupyter-2021.8.1013163132\\out\\client\\extension.js:90:315205)",
      "at runMicrotasks (<anonymous>)",
      "at processTicksAndRejections (internal/process/task_queues.js:93:5)",
      "at async t.CellExecutionQueue.executeQueuedCells (c:\\Users\\Nabheet Madan\\.vscode\\extensions\\ms-toolsai.jupyter-2021.8.1013163132\\out\\client\\extension.js:90:329732)",
      "at async t.CellExecutionQueue.start (c:\\Users\\Nabheet Madan\\.vscode\\extensions\\ms-toolsai.jupyter-2021.8.1013163132\\out\\client\\extension.js:90:329272)"
     ]
    }
   ],
   "metadata": {}
  },
  {
   "cell_type": "code",
   "execution_count": 1,
   "source": [
    "x = 4\r\n",
    "if x < 2:\r\n",
    "    print(\"less than two\")\r\n",
    "else:\r\n",
    "    print(\"greater than 2\")"
   ],
   "outputs": [
    {
     "output_type": "stream",
     "name": "stdout",
     "text": [
      "greater than 2\n"
     ]
    }
   ],
   "metadata": {}
  },
  {
   "cell_type": "code",
   "execution_count": null,
   "source": [
    "x = 3\r\n",
    "if x < 2:\r\n",
    "    print(\"less than two\")\r\n",
    "elif x > 2 && x < 4:\r\n",
    "    print(\"greater than 2 less than 4\")\r\n",
    "else:\r\n",
    "    print(\"greater than 4\")"
   ],
   "outputs": [
    {
     "output_type": "error",
     "ename": "SyntaxError",
     "evalue": "invalid syntax (Temp/ipykernel_6464/777184088.py, line 4)",
     "traceback": [
      "\u001b[1;36m  File \u001b[1;32m\"C:\\Users\\NABHEE~1\\AppData\\Local\\Temp/ipykernel_6464/777184088.py\"\u001b[1;36m, line \u001b[1;32m4\u001b[0m\n\u001b[1;33m    elif x > 2 && x < 4:\u001b[0m\n\u001b[1;37m                ^\u001b[0m\n\u001b[1;31mSyntaxError\u001b[0m\u001b[1;31m:\u001b[0m invalid syntax\n"
     ]
    }
   ],
   "metadata": {}
  },
  {
   "cell_type": "code",
   "execution_count": null,
   "source": [
    "x = \"hello\"\r\n",
    "try:\r\n",
    "    y=int(x)\r\n",
    "except:\r\n",
    "    y = -1\r\n",
    "print(y)"
   ],
   "outputs": [
    {
     "output_type": "stream",
     "name": "stdout",
     "text": [
      "-1\n"
     ]
    }
   ],
   "metadata": {}
  },
  {
   "cell_type": "code",
   "execution_count": null,
   "source": [
    "x = \"hello\"\r\n",
    "try:\r\n",
    "    y=int(x)\r\n",
    "except:\r\n",
    "    y = -1\r\n",
    "print(y)\r\n",
    "x = 20\r\n",
    "try:\r\n",
    "    y=int(x)\r\n",
    "except:\r\n",
    "    y = -1\r\n",
    "print(y)"
   ],
   "outputs": [
    {
     "output_type": "stream",
     "name": "stdout",
     "text": [
      "-1\n",
      "20\n"
     ]
    }
   ],
   "metadata": {}
  },
  {
   "cell_type": "code",
   "execution_count": null,
   "source": [
    "def sum(a,b):\r\n",
    "    return(a + b)\r\n"
   ],
   "outputs": [],
   "metadata": {}
  },
  {
   "cell_type": "code",
   "execution_count": null,
   "source": [
    "sum(1,2)"
   ],
   "outputs": [],
   "metadata": {}
  },
  {
   "cell_type": "code",
   "execution_count": null,
   "source": [
    "n = 0\r\n",
    "while True:\r\n",
    "    if n == 3:\r\n",
    "        break\r\n",
    "    print(n)\r\n",
    "    n = n + 1"
   ],
   "outputs": [],
   "metadata": {}
  },
  {
   "cell_type": "code",
   "execution_count": null,
   "source": [
    "count = 1 \r\n",
    "while True:\r\n",
    "    if count > 6:\r\n",
    "        break\r\n",
    "    print(count)\r\n",
    "    count = count+1"
   ],
   "outputs": [],
   "metadata": {}
  },
  {
   "cell_type": "code",
   "execution_count": null,
   "source": [],
   "outputs": [],
   "metadata": {}
  },
  {
   "cell_type": "code",
   "execution_count": null,
   "source": [
    "print(\"hell9o\")"
   ],
   "outputs": [
    {
     "output_type": "stream",
     "name": "stdout",
     "text": [
      "hell9o\n"
     ]
    }
   ],
   "metadata": {}
  },
  {
   "cell_type": "code",
   "execution_count": null,
   "source": [
    "\r\n",
    "# strings\r\n",
    "fruit = \"Apple\"\r\n",
    "\r\n",
    "# print(fruit[0])\r\n",
    "# len(fruit)\r\n",
    "# for letter in fruit:\r\n",
    "    # print(letter)\r\n",
    "print(fruit[-3:])   \r\n",
    "fruit.find(\"A\")"
   ],
   "outputs": [
    {
     "output_type": "stream",
     "name": "stdout",
     "text": [
      "ple\n"
     ]
    },
    {
     "output_type": "execute_result",
     "data": {
      "text/plain": [
       "0"
      ]
     },
     "metadata": {},
     "execution_count": 19
    }
   ],
   "metadata": {}
  },
  {
   "cell_type": "code",
   "execution_count": null,
   "source": [
    "# Files\r\n",
    "fname = input('Enter files nae')\r\n",
    "try:\r\n",
    "    handle=open(fname)\r\n",
    "except:\r\n",
    "    print('filename not found',fname)\r\n",
    "    quit()   \r\n",
    "alldata=handle.read()\r\n",
    "print(alldata)\r\n",
    "# for data in handle:\r\n",
    "#     print(data)"
   ],
   "outputs": [],
   "metadata": {}
  },
  {
   "cell_type": "code",
   "execution_count": null,
   "source": [
    "# lists  & range\r\n",
    "# lists are nmutable but string are not\r\n",
    "cars = [\"a\",\"assadas\",\"sdadsa\"]\r\n",
    "name = \"Nabheet\"\r\n",
    "# name[1]= \"sadsa\"\r\n",
    "# print(range(len(cars)))\r\n",
    "# print(cars)\r\n",
    "# print(range(4))\r\n",
    "# for i in range(len(cars)):\r\n",
    "    # print(cars[i])\r\n",
    "\r\n",
    "bikes = [\"asa\",\"yweiuy\",\"quuoiwqeuoiq\"]\r\n",
    "total = cars + bikes \r\n",
    "x = list()\r\n",
    "dir(x)\r\n",
    "x.append(\"a\")\r\n",
    "\r\n",
    "x.append(\"b\")\r\n",
    "x.append(\"c\")\r\n",
    "print(x)\r\n",
    "x.reverse()\r\n",
    "print('d' in x)\r\n",
    "name =\"My name is nabheet madan\"\r\n",
    "print(name.split())\r\n",
    "# print(total)"
   ],
   "outputs": [],
   "metadata": {}
  },
  {
   "cell_type": "markdown",
   "source": [],
   "metadata": {}
  },
  {
   "cell_type": "code",
   "execution_count": null,
   "source": [
    "# Dictionaries\r\n",
    "wallet = dict()\r\n",
    "wallet[\"cards\"] = 3\r\n",
    "wallet[\"money\"]=100\r\n",
    "print(wallet)\r\n",
    "\r\n",
    "w2 = {\"cards\":3,\"money\":100}\r\n",
    "print(w2)\r\n",
    "\r\n",
    "names = [\"nabheet\",\"trijal\",\"trisha\",\"isha\",\"trijal\",\"trisha\"]\r\n",
    "count = dict()\r\n",
    "#  first way\r\n",
    "# for name in names:\r\n",
    "#     if name not in count:\r\n",
    "#         count[name]=1\r\n",
    "#     else:\r\n",
    "#         count[name] = count[name]+1\r\n",
    "# print(count)\r\n",
    "\r\n",
    "#  another way\r\n",
    "for name in names:\r\n",
    "        count[name] = count.get(name,0)+1\r\n",
    "# print(count)\r\n",
    "for key in count:\r\n",
    "    print(key)\r\n",
    "\r\n",
    "print(count.keys())    \r\n",
    "\r\n",
    "# count.get(\"trijal\",0)"
   ],
   "outputs": [],
   "metadata": {}
  },
  {
   "cell_type": "code",
   "execution_count": null,
   "source": [
    "# Tupples are immutable not like lists\r\n",
    "tup = (\"hello\",\"Nabheet\")\r\n",
    "print(tup)\r\n",
    "mytupple = tuple()\r\n",
    "dir(mytupple)\r\n",
    "d = {'a':10,'c':9,'b':11}\r\n",
    "print(d.items())\r\n",
    "print(sorted(d.items()))\r\n",
    "print( sorted( [ (v,k) for k,v in d.items() ], reverse=True ) )\r\n",
    "\r\n",
    "# lst = []\r\n",
    "# for key, val in d.items():\r\n",
    "#     newtup = (val, key)\r\n",
    "#     lst.append(newtup)\r\n",
    "# lst = sorted(lst, reverse=True)\r\n",
    "# print(lst)"
   ],
   "outputs": [],
   "metadata": {}
  },
  {
   "cell_type": "code",
   "execution_count": null,
   "source": [
    "# network programming\r\n",
    "import socket\r\n",
    "mysock = socket.socket(socket.AF_INET,socket.SOCK_STREAM)\r\n",
    "mysock.connect(('data.pr4e.org',80))\r\n",
    "cmd='GET http://data.pr4e.org/romeo.txt HTTP/1.0\\r\\n\\r\\n'.encode()\r\n",
    "mysock.send(cmd)\r\n",
    "\r\n",
    "while True:\r\n",
    "    data=mysock.recv(512)\r\n",
    "    if(len(data)<1):\r\n",
    "        break\r\n",
    "    print(data.decode())\r\n",
    "mysock.close()"
   ],
   "outputs": [],
   "metadata": {}
  },
  {
   "cell_type": "code",
   "execution_count": null,
   "source": [
    "# urlib\r\n",
    "import urllib.request, urllib.parse, urllib.error\r\n",
    "fhand= urllib.request.urlopen('http://data.pr4e.org/romeo.txt')\r\n",
    "for line in fhand:\r\n",
    "    print(line.decode())"
   ],
   "outputs": [],
   "metadata": {}
  },
  {
   "cell_type": "code",
   "execution_count": null,
   "source": [
    "# webscrapping\r\n",
    "import urllib.request, urllib.parse, urllib.error\r\n",
    "from bs4 import BeautifulSoup\r\n",
    "\r\n",
    "url=input('Enter - url:')\r\n",
    "html=urllib.request.urlopen(url).read()\r\n",
    "soup=BeautifulSoup(html,'html.parser')\r\n",
    "\r\n",
    "tags = soup('a')\r\n",
    "for tag in tags:\r\n",
    "    print(tag.get('href',None))\r\n",
    "\r\n"
   ],
   "outputs": [],
   "metadata": {}
  },
  {
   "cell_type": "code",
   "execution_count": 51,
   "source": [
    "# JSON\r\n",
    "import json\r\n",
    "data = '''\r\n",
    "  [\r\n",
    "    { \"id\" : \"001\",\r\n",
    "      \"x\" : \"2\",\r\n",
    "     \"name\" : \"Quincy\"\r\n",
    "    } ,\r\n",
    "    { \"id\" : \"009\",\r\n",
    "      \"x\" : \"7\",\r\n",
    "      \"name\" : \"Mrugesh\"\r\n",
    "    }\r\n",
    "  ]\r\n",
    "'''\r\n",
    "info = json.loads(data)\r\n",
    "print(info[1]['name'])"
   ],
   "outputs": [
    {
     "output_type": "stream",
     "name": "stdout",
     "text": [
      "Mrugesh\n"
     ]
    }
   ],
   "metadata": {}
  },
  {
   "cell_type": "code",
   "execution_count": null,
   "source": [
    "class PartyAnimal:\r\n",
    "    x = 0\r\n",
    "    def party(self):\r\n",
    "        self.x = self.x + 2\r\n",
    "        print(self.x)\r\n",
    "\r\n",
    "an = PartyAnimal()\r\n",
    "dir(an)\r\n",
    "# an.party()\r\n",
    "# an.party()"
   ],
   "outputs": [],
   "metadata": {}
  },
  {
   "cell_type": "code",
   "execution_count": null,
   "source": [
    "class PartyAnimal:\r\n",
    "    x = 0\r\n",
    "    name = ''\r\n",
    "    def __init__(self, nam):\r\n",
    "        self.name = nam\r\n",
    "        print(self.name,'constructed')\r\n",
    "    def party(self):\r\n",
    "        self.x = self.x + 1\r\n",
    "        print(self.name,'party count',self.x)\r\n",
    "\r\n",
    "q = PartyAnimal('Quincy')\r\n",
    "m = PartyAnimal('Miya')\r\n",
    "\r\n",
    "q.party()\r\n",
    "m.party()\r\n",
    "q.party()"
   ],
   "outputs": [],
   "metadata": {}
  },
  {
   "cell_type": "code",
   "execution_count": null,
   "source": [
    "class PartyAnimal:\r\n",
    "    x = 0\r\n",
    "    name = ''\r\n",
    "    def __init__(self, nam):\r\n",
    "        self.name = nam\r\n",
    "        print(self.name,'constructed')\r\n",
    "    def party(self):\r\n",
    "        self.x = self.x + 1\r\n",
    "        print(self.name,'party count',self.x)\r\n",
    "\r\n",
    "class FootballFan(PartyAnimal):\r\n",
    "    points=0\r\n",
    "    def touchdown(self):\r\n",
    "        self.points = self.points + 7\r\n",
    "        self.party()\r\n",
    "        print(self.name,\"points\",self.points)\r\n",
    "\r\n",
    "s = PartyAnimal(\"Sally\")\r\n",
    "s.party()\r\n",
    "\r\n",
    "j = FootballFan(\"Jim\")\r\n",
    "j.party()\r\n",
    "j.touchdown()\r\n"
   ],
   "outputs": [],
   "metadata": {}
  },
  {
   "cell_type": "code",
   "execution_count": null,
   "source": [
    "def arithmetic_arranger(problems, doCalculation=False):\r\n",
    "    if len(problems) > 5:\r\n",
    "        return('Error: Too many problems.')\r\n",
    "    line1=\"\"\r\n",
    "    line2=\"\"\r\n",
    "    line3=\"\"\r\n",
    "    line4=\"\"\r\n",
    "    arranged_problems=\"\"\r\n",
    "    for problem in problems:\r\n",
    "        splittingProblem=problem.split()\r\n",
    "        if (splittingProblem[1] != '+' and splittingProblem[1] != '-'):\r\n",
    "            return \"Error: Operator must be '+' or '-'.\"\r\n",
    "            break\r\n",
    "        try:\r\n",
    "            left = int(splittingProblem[0])\r\n",
    "        except ValueError:\r\n",
    "            return \"Error: Numbers must only contain digits.\"\r\n",
    "            break\r\n",
    "        try:\r\n",
    "            right = int(splittingProblem[2])\r\n",
    "        except ValueError:\r\n",
    "            return \"Error: Numbers must only contain digits.\"\r\n",
    "            break\r\n",
    "\r\n",
    "        if (len(splittingProblem[0])>4 or len(splittingProblem[2])>4):\r\n",
    "            return \"Error: Numbers cannot be more than four digits.\"\r\n",
    "            break\r\n",
    "\r\n",
    "        operator = splittingProblem[1]    \r\n",
    "        gap = \"    \" \r\n",
    "        # print(left,right)\r\n",
    "        # Preparing first line\r\n",
    "        if len(str(left)) > len(str(right)):\r\n",
    "            # just add two spaces one for + and another space\r\n",
    "            line1 = line1+\"  \"+str(left)+gap\r\n",
    "        else:\r\n",
    "            # check second length and subtract length first and then add 2 for + and space\r\n",
    "            line1 = line1+\" \"*(len(str(right))-len(str(left))+2)+str(left)+gap \r\n",
    "\r\n",
    "        if len(str(right)) > len(str(left)):\r\n",
    "            # just add two spaces one for + and another space\r\n",
    "            line2 = line2+operator+\" \"+str(right)+gap\r\n",
    "        else:\r\n",
    "            # check second length and subtract length first and then add 1 for space\r\n",
    "            line2 = line2+operator+\" \"*(len(str(left))-len(str(right))+1)+str(right)+gap  \r\n",
    "        line3 = line3+\"-\"*(max(len(str(left)),len(str(right)))+2)+gap\r\n",
    "        operation = 0\r\n",
    "        if operator == \"+\":\r\n",
    "            operation = left + right\r\n",
    "        else:\r\n",
    "            operation = left - right \r\n",
    "        # print(line1)\r\n",
    "        # print(line2)\r\n",
    "        # print(line3)\r\n",
    "        # print(line4)   \r\n",
    "        line4 = line4+\" \"*(max(len(str(left)),len(str(right)))+2-len(str(operation)))+str(operation)+gap \r\n",
    "    # print(line1)\r\n",
    "    # print(line2)\r\n",
    "    # print(line3)\r\n",
    "    # print(line4)\r\n",
    "    # if arranged_problems:\r\n",
    "    if doCalculation == True:\r\n",
    "        arranged_problems= line1.rstrip()+\"\\n\"+line2.rstrip()+\"\\n\"+line3.rstrip() +\"\\n\"+line4.rstrip() \r\n",
    "    else:\r\n",
    "        arranged_problems= line1.rstrip()+\"\\n\"+line2.rstrip()+\"\\n\"+line3.rstrip()\r\n",
    "    return arranged_problems\r\n",
    "   \r\n",
    "   \r\n",
    "     \r\n",
    "        \r\n",
    "             \r\n",
    "\r\n",
    "\r\n",
    "arithmetic_arranger([\"3 + 855\", \"3801 - 2\", \"45 + 43\", \"123 + 49\"],True)\r\n",
    "# print(valus)"
   ],
   "outputs": [],
   "metadata": {}
  },
  {
   "cell_type": "code",
   "execution_count": 22,
   "source": [
    "def add_time(start, duration,day=\"\"):\r\n",
    "    parsingTimeLevel1=start.split(\" \")\r\n",
    "    parsingTimeLevel2=parsingTimeLevel1[0].split(\":\")\r\n",
    "    hours=parsingTimeLevel2[0]\r\n",
    "    minutes=parsingTimeLevel2[1]\r\n",
    "    durationSplit=duration.split(\":\")   \r\n",
    "    hours=int(hours)+int(durationSplit[0])\r\n",
    "    minutes=int(minutes)+int(durationSplit[1])\r\n",
    "    if minutes>59:\r\n",
    "        hours=hours+1\r\n",
    "        minutes=minutes-60\r\n",
    "    if hours>23:\r\n",
    "        nDays= int(hours / 24)\r\n",
    "        hours=hours-nDays*24\r\n",
    "   \r\n",
    "    \r\n",
    "    if parsingTimeLevel1[1] == \"PM\":\r\n",
    "        print(\"PM\")\r\n",
    "        if hours > 12:\r\n",
    "            parsingTimeLevel1[1] = \"AM\"\r\n",
    "            hours = hours - 12\r\n",
    "            print(hours)\r\n",
    "    elif parsingTimeLevel1[1] == \"AM\":\r\n",
    "        print(\"AM\")\r\n",
    "        if hours > 12:\r\n",
    "            parsingTimeLevel1[1] = \"PM\"\r\n",
    "            hours = hours - 12\r\n",
    "            print(hours)\r\n",
    "\r\n",
    "    parsingTimeLevel2[0]=str(hours)\r\n",
    "    parsingTimeLevel2[1]=str(minutes)\r\n",
    "    parsingTimeLevel1[0]=parsingTimeLevel2[0]+\":\"+parsingTimeLevel2[1]\r\n",
    "    # print(nDays)\r\n",
    "    return parsingTimeLevel1[0]+\" \"+parsingTimeLevel1[1]\r\n",
    "        \r\n",
    "\r\n",
    "    # return new_time\r\n",
    "add_time(\"11:43 PM\", \"24:20\", \"tueSday\")"
   ],
   "outputs": [
    {
     "output_type": "stream",
     "name": "stdout",
     "text": [
      "PM\n"
     ]
    },
    {
     "output_type": "execute_result",
     "data": {
      "text/plain": [
       "'12:3 PM'"
      ]
     },
     "metadata": {},
     "execution_count": 22
    }
   ],
   "metadata": {}
  }
 ]
}