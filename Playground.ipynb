{
 "metadata": {
  "language_info": {
   "codemirror_mode": {
    "name": "ipython",
    "version": 3
   },
   "file_extension": ".py",
   "mimetype": "text/x-python",
   "name": "python",
   "nbconvert_exporter": "python",
   "pygments_lexer": "ipython3",
   "version": "3.9.1"
  },
  "orig_nbformat": 4,
  "kernelspec": {
   "name": "python3",
   "display_name": "Python 3.9.1 64-bit"
  },
  "interpreter": {
   "hash": "bf689d8f83c7b4c56444d90c81645527b156ce29ba2311f5f43d74aac5c8afa9"
  }
 },
 "nbformat": 4,
 "nbformat_minor": 2,
 "cells": [
  {
   "cell_type": "code",
   "execution_count": null,
   "source": [],
   "outputs": [],
   "metadata": {}
  },
  {
   "cell_type": "code",
   "execution_count": null,
   "source": [
    "print(\"hello\")"
   ],
   "outputs": [
    {
     "output_type": "error",
     "ename": "Error",
     "evalue": "Session cannot generate requests",
     "traceback": [
      "Error: Session cannot generate requests",
      "at w.executeCodeCell (c:\\Users\\Nabheet Madan\\.vscode\\extensions\\ms-toolsai.jupyter-2021.8.1013163132\\out\\client\\extension.js:90:320068)",
      "at w.execute (c:\\Users\\Nabheet Madan\\.vscode\\extensions\\ms-toolsai.jupyter-2021.8.1013163132\\out\\client\\extension.js:90:319389)",
      "at w.start (c:\\Users\\Nabheet Madan\\.vscode\\extensions\\ms-toolsai.jupyter-2021.8.1013163132\\out\\client\\extension.js:90:315205)",
      "at runMicrotasks (<anonymous>)",
      "at processTicksAndRejections (internal/process/task_queues.js:93:5)",
      "at async t.CellExecutionQueue.executeQueuedCells (c:\\Users\\Nabheet Madan\\.vscode\\extensions\\ms-toolsai.jupyter-2021.8.1013163132\\out\\client\\extension.js:90:329732)",
      "at async t.CellExecutionQueue.start (c:\\Users\\Nabheet Madan\\.vscode\\extensions\\ms-toolsai.jupyter-2021.8.1013163132\\out\\client\\extension.js:90:329272)"
     ]
    }
   ],
   "metadata": {}
  },
  {
   "cell_type": "code",
   "execution_count": 1,
   "source": [
    "x = 4\r\n",
    "if x < 2:\r\n",
    "    print(\"less than two\")\r\n",
    "else:\r\n",
    "    print(\"greater than 2\")"
   ],
   "outputs": [
    {
     "output_type": "stream",
     "name": "stdout",
     "text": [
      "greater than 2\n"
     ]
    }
   ],
   "metadata": {}
  },
  {
   "cell_type": "code",
   "execution_count": null,
   "source": [
    "x = 3\r\n",
    "if x < 2:\r\n",
    "    print(\"less than two\")\r\n",
    "elif x > 2 && x < 4:\r\n",
    "    print(\"greater than 2 less than 4\")\r\n",
    "else:\r\n",
    "    print(\"greater than 4\")"
   ],
   "outputs": [
    {
     "output_type": "error",
     "ename": "SyntaxError",
     "evalue": "invalid syntax (Temp/ipykernel_6464/777184088.py, line 4)",
     "traceback": [
      "\u001b[1;36m  File \u001b[1;32m\"C:\\Users\\NABHEE~1\\AppData\\Local\\Temp/ipykernel_6464/777184088.py\"\u001b[1;36m, line \u001b[1;32m4\u001b[0m\n\u001b[1;33m    elif x > 2 && x < 4:\u001b[0m\n\u001b[1;37m                ^\u001b[0m\n\u001b[1;31mSyntaxError\u001b[0m\u001b[1;31m:\u001b[0m invalid syntax\n"
     ]
    }
   ],
   "metadata": {}
  },
  {
   "cell_type": "code",
   "execution_count": null,
   "source": [
    "x = \"hello\"\r\n",
    "try:\r\n",
    "    y=int(x)\r\n",
    "except:\r\n",
    "    y = -1\r\n",
    "print(y)"
   ],
   "outputs": [
    {
     "output_type": "stream",
     "name": "stdout",
     "text": [
      "-1\n"
     ]
    }
   ],
   "metadata": {}
  },
  {
   "cell_type": "code",
   "execution_count": null,
   "source": [
    "x = \"hello\"\r\n",
    "try:\r\n",
    "    y=int(x)\r\n",
    "except:\r\n",
    "    y = -1\r\n",
    "print(y)\r\n",
    "x = 20\r\n",
    "try:\r\n",
    "    y=int(x)\r\n",
    "except:\r\n",
    "    y = -1\r\n",
    "print(y)"
   ],
   "outputs": [
    {
     "output_type": "stream",
     "name": "stdout",
     "text": [
      "-1\n",
      "20\n"
     ]
    }
   ],
   "metadata": {}
  },
  {
   "cell_type": "code",
   "execution_count": null,
   "source": [
    "def sum(a,b):\r\n",
    "    return(a + b)\r\n"
   ],
   "outputs": [],
   "metadata": {}
  },
  {
   "cell_type": "code",
   "execution_count": null,
   "source": [
    "sum(1,2)"
   ],
   "outputs": [],
   "metadata": {}
  },
  {
   "cell_type": "code",
   "execution_count": null,
   "source": [
    "n = 0\r\n",
    "while True:\r\n",
    "    if n == 3:\r\n",
    "        break\r\n",
    "    print(n)\r\n",
    "    n = n + 1"
   ],
   "outputs": [],
   "metadata": {}
  },
  {
   "cell_type": "code",
   "execution_count": null,
   "source": [
    "count = 1 \r\n",
    "while True:\r\n",
    "    if count > 6:\r\n",
    "        break\r\n",
    "    print(count)\r\n",
    "    count = count+1"
   ],
   "outputs": [],
   "metadata": {}
  },
  {
   "cell_type": "code",
   "execution_count": null,
   "source": [],
   "outputs": [],
   "metadata": {}
  },
  {
   "cell_type": "code",
   "execution_count": null,
   "source": [
    "print(\"hell9o\")"
   ],
   "outputs": [
    {
     "output_type": "stream",
     "name": "stdout",
     "text": [
      "hell9o\n"
     ]
    }
   ],
   "metadata": {}
  },
  {
   "cell_type": "code",
   "execution_count": null,
   "source": [
    "\r\n",
    "# strings\r\n",
    "fruit = \"Apple\"\r\n",
    "\r\n",
    "# print(fruit[0])\r\n",
    "# len(fruit)\r\n",
    "# for letter in fruit:\r\n",
    "    # print(letter)\r\n",
    "print(fruit[-3:])   \r\n",
    "fruit.find(\"A\")"
   ],
   "outputs": [
    {
     "output_type": "stream",
     "name": "stdout",
     "text": [
      "ple\n"
     ]
    },
    {
     "output_type": "execute_result",
     "data": {
      "text/plain": [
       "0"
      ]
     },
     "metadata": {},
     "execution_count": 19
    }
   ],
   "metadata": {}
  },
  {
   "cell_type": "code",
   "execution_count": null,
   "source": [
    "# Files\r\n",
    "fname = input('Enter files nae')\r\n",
    "try:\r\n",
    "    handle=open(fname)\r\n",
    "except:\r\n",
    "    print('filename not found',fname)\r\n",
    "    quit()   \r\n",
    "alldata=handle.read()\r\n",
    "print(alldata)\r\n",
    "# for data in handle:\r\n",
    "#     print(data)"
   ],
   "outputs": [],
   "metadata": {}
  },
  {
   "cell_type": "code",
   "execution_count": null,
   "source": [
    "# lists  & range\r\n",
    "# lists are nmutable but string are not\r\n",
    "cars = [\"a\",\"assadas\",\"sdadsa\"]\r\n",
    "name = \"Nabheet\"\r\n",
    "# name[1]= \"sadsa\"\r\n",
    "# print(range(len(cars)))\r\n",
    "# print(cars)\r\n",
    "# print(range(4))\r\n",
    "# for i in range(len(cars)):\r\n",
    "    # print(cars[i])\r\n",
    "\r\n",
    "bikes = [\"asa\",\"yweiuy\",\"quuoiwqeuoiq\"]\r\n",
    "total = cars + bikes \r\n",
    "x = list()\r\n",
    "dir(x)\r\n",
    "x.append(\"a\")\r\n",
    "\r\n",
    "x.append(\"b\")\r\n",
    "x.append(\"c\")\r\n",
    "print(x)\r\n",
    "x.reverse()\r\n",
    "print('d' in x)\r\n",
    "name =\"My name is nabheet madan\"\r\n",
    "print(name.split())\r\n",
    "# print(total)"
   ],
   "outputs": [],
   "metadata": {}
  },
  {
   "cell_type": "markdown",
   "source": [],
   "metadata": {}
  },
  {
   "cell_type": "code",
   "execution_count": null,
   "source": [
    "# Dictionaries\r\n",
    "wallet = dict()\r\n",
    "wallet[\"cards\"] = 3\r\n",
    "wallet[\"money\"]=100\r\n",
    "print(wallet)\r\n",
    "\r\n",
    "w2 = {\"cards\":3,\"money\":100}\r\n",
    "print(w2)\r\n",
    "\r\n",
    "names = [\"nabheet\",\"trijal\",\"trisha\",\"isha\",\"trijal\",\"trisha\"]\r\n",
    "count = dict()\r\n",
    "#  first way\r\n",
    "# for name in names:\r\n",
    "#     if name not in count:\r\n",
    "#         count[name]=1\r\n",
    "#     else:\r\n",
    "#         count[name] = count[name]+1\r\n",
    "# print(count)\r\n",
    "\r\n",
    "#  another way\r\n",
    "for name in names:\r\n",
    "        count[name] = count.get(name,0)+1\r\n",
    "# print(count)\r\n",
    "for key in count:\r\n",
    "    print(key)\r\n",
    "\r\n",
    "print(count.keys())    \r\n",
    "\r\n",
    "# count.get(\"trijal\",0)"
   ],
   "outputs": [],
   "metadata": {}
  },
  {
   "cell_type": "code",
   "execution_count": null,
   "source": [
    "# Tupples"
   ],
   "outputs": [],
   "metadata": {}
  }
 ]
}